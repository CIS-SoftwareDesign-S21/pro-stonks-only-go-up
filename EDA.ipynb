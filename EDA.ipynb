{
 "metadata": {
  "language_info": {
   "codemirror_mode": {
    "name": "ipython",
    "version": 3
   },
   "file_extension": ".py",
   "mimetype": "text/x-python",
   "name": "python",
   "nbconvert_exporter": "python",
   "pygments_lexer": "ipython3",
   "version": "3.8.5-final"
  },
  "orig_nbformat": 2,
  "kernelspec": {
   "name": "python385jvsc74a57bd0f2ce961db79113c6ec804e2e6dc6ecaafee5ab1cdd6f289a2be25a89f1a74403",
   "display_name": "Python 3.8.5 64-bit ('cis3296')"
  },
  "metadata": {
   "interpreter": {
    "hash": "f2ce961db79113c6ec804e2e6dc6ecaafee5ab1cdd6f289a2be25a89f1a74403"
   }
  }
 },
 "nbformat": 4,
 "nbformat_minor": 2,
 "cells": [
  {
   "cell_type": "code",
   "execution_count": null,
   "metadata": {},
   "outputs": [],
   "source": [
    "from IPython import display\n",
    "import math\n",
    "from pprint import pprint\n",
    "import pandas as pd\n",
    "import numpy as np\n",
    "import nltk\n",
    "import matplotlib.pyplot as plt\n",
    "import seaborn as sns\n",
    "sns.set(style='darkgrid', context='talk', palette='Dark2')"
   ]
  },
  {
   "cell_type": "code",
   "execution_count": null,
   "metadata": {},
   "outputs": [],
   "source": [
    "f = open(r\"gme_titles.txt\",\"r\")\n"
   ]
  },
  {
   "cell_type": "code",
   "execution_count": null,
   "metadata": {},
   "outputs": [],
   "source": []
  },
  {
   "cell_type": "code",
   "execution_count": null,
   "metadata": {},
   "outputs": [],
   "source": [
    "from nltk.sentiment.vader import SentimentIntensityAnalyzer as SIA\n",
    "\n",
    "sia = SIA()\n",
    "results = []\n",
    "\n",
    "for line in f:\n",
    "    line = line.strip('\\n')\n",
    "    pol_score = sia.polarity_scores(line)\n",
    "    pol_score['headline'] = line\n",
    "    results.append(pol_score)\n",
    "\n",
    "\n",
    "\n"
   ]
  },
  {
   "cell_type": "code",
   "execution_count": null,
   "metadata": {},
   "outputs": [],
   "source": [
    "print(results[:3])"
   ]
  },
  {
   "cell_type": "code",
   "execution_count": null,
   "metadata": {},
   "outputs": [],
   "source": [
    "df = pd.DataFrame.from_records(results)\n",
    "df.head()"
   ]
  },
  {
   "cell_type": "code",
   "execution_count": 1,
   "metadata": {
    "tags": []
   },
   "outputs": [],
   "source": [
    "import dbconn\n",
    "import reddit_scraper\n",
    "import pandas as pd\n",
    "\n",
    "df = pd.DataFrame(reddit_scraper.search_pushshift_titles('GME',5,0),columns = ['Title','Context','Timestamp'])\n",
    "df2 = pd.DataFrame(reddit_scraper.search_pushshift_titles('TSLA',5,0),columns = ['Title','Context','Timestamp'])\n",
    "df3 = pd.DataFrame(reddit_scraper.search_pushshift_titles('AMC',5,0),columns = ['Title','Context','Timestamp'])\n",
    "df4 = pd.DataFrame(reddit_scraper.search_pushshift_titles('CLOV',5,0),columns = ['Title','Context','Timestamp'])\n",
    "df5 = pd.DataFrame(reddit_scraper.search_pushshift_titles('PLTR',5,0),columns = ['Title','Context','Timestamp'])\n",
    "df6 = pd.DataFrame(reddit_scraper.search_pushshift_titles('AAPL',5,0),columns = ['Title','Context','Timestamp'])\n",
    "df7 = pd.DataFrame(reddit_scraper.search_pushshift_titles('BB',5,0),columns = ['Title','Context','Timestamp'])\n",
    "df8 = pd.DataFrame(reddit_scraper.search_pushshift_titles('AMD',5,0),columns = ['Title','Context','Timestamp'])\n",
    "df9 = pd.DataFrame(reddit_scraper.search_pushshift_titles('SNDL',5,0),columns = ['Title','Context','Timestamp'])\n",
    "df10 = pd.DataFrame(reddit_scraper.search_pushshift_titles('PTON',5,0),columns = ['Title','Context','Timestamp'])\n"
   ]
  },
  {
   "cell_type": "code",
   "execution_count": 2,
   "metadata": {},
   "outputs": [],
   "source": [
    "df_total = pd.concat([df,df2,df3,df4,df5,df6,df7,df8,df9,df10],ignore_index=True)"
   ]
  },
  {
   "cell_type": "code",
   "execution_count": 8,
   "metadata": {},
   "outputs": [
    {
     "output_type": "stream",
     "name": "stdout",
     "text": [
      "(100, 3)\n"
     ]
    }
   ],
   "source": [
    "import numpy as np\n",
    "\n",
    "test = np.array(reddit_scraper.search_pushshift_titles('GME',2,0))\n",
    "print(test.shape)"
   ]
  },
  {
   "cell_type": "code",
   "execution_count": 9,
   "metadata": {},
   "outputs": [
    {
     "output_type": "stream",
     "name": "stdout",
     "text": [
      "<class 'pandas.core.frame.DataFrame'>\nRangeIndex: 100 entries, 0 to 99\nData columns (total 3 columns):\n #   Column     Non-Null Count  Dtype \n---  ------     --------------  ----- \n 0   Title      100 non-null    object\n 1   Context    100 non-null    object\n 2   Timestamp  100 non-null    int64 \ndtypes: int64(1), object(2)\nmemory usage: 2.5+ KB\n"
     ]
    }
   ],
   "source": [
    "df.info()"
   ]
  },
  {
   "cell_type": "code",
   "execution_count": 10,
   "metadata": {},
   "outputs": [],
   "source": [
    "df_total2 = df_total[df_total.Context != \"[removed]\"]"
   ]
  },
  {
   "cell_type": "code",
   "execution_count": 11,
   "metadata": {},
   "outputs": [
    {
     "output_type": "stream",
     "name": "stdout",
     "text": [
      "<class 'pandas.core.frame.DataFrame'>\nInt64Index: 884 entries, 0 to 998\nData columns (total 3 columns):\n #   Column     Non-Null Count  Dtype \n---  ------     --------------  ----- \n 0   Title      884 non-null    object\n 1   Context    884 non-null    object\n 2   Timestamp  884 non-null    int64 \ndtypes: int64(1), object(2)\nmemory usage: 27.6+ KB\n"
     ]
    }
   ],
   "source": [
    "df_total2.info()"
   ]
  },
  {
   "cell_type": "code",
   "execution_count": 38,
   "metadata": {},
   "outputs": [],
   "source": [
    "df_total3 = df_total2[df_total2.Context != \"\"]\n"
   ]
  },
  {
   "cell_type": "code",
   "execution_count": 34,
   "metadata": {},
   "outputs": [
    {
     "output_type": "stream",
     "name": "stdout",
     "text": [
      "<class 'pandas.core.frame.DataFrame'>\nInt64Index: 289 entries, 0 to 998\nData columns (total 3 columns):\n #   Column     Non-Null Count  Dtype \n---  ------     --------------  ----- \n 0   Title      289 non-null    object\n 1   Context    289 non-null    object\n 2   Timestamp  289 non-null    int64 \ndtypes: int64(1), object(2)\nmemory usage: 9.0+ KB\n"
     ]
    }
   ],
   "source": [
    "df_total3.info()"
   ]
  },
  {
   "cell_type": "code",
   "execution_count": 39,
   "metadata": {},
   "outputs": [
    {
     "output_type": "execute_result",
     "data": {
      "text/plain": [
       "                                               Title  \\\n",
       "0                 Why is the GME share price so low?   \n",
       "3   WRITING BOOK.....GME, APES, AND THEIR DREAMS....   \n",
       "6                   $GME - CEO Stepping Down in July   \n",
       "12               Probably has nothing to do with GME   \n",
       "16                  If GME doesn't moon this week...   \n",
       "\n",
       "                                              Context   Timestamp  \n",
       "0   With all the predictions of it reaching millio...  1618848715  \n",
       "3   Hello, fellow apes.  I have been with all of y...  1618848373  \n",
       "6   $GME has announced George Sherman will depart ...  1618848286  \n",
       "12  Two of the top Canadian cell service Fido and ...  1618848072  \n",
       "16  I swear, if GME doesn't finally moon this week...  1618847596  "
      ],
      "text/html": "<div>\n<style scoped>\n    .dataframe tbody tr th:only-of-type {\n        vertical-align: middle;\n    }\n\n    .dataframe tbody tr th {\n        vertical-align: top;\n    }\n\n    .dataframe thead th {\n        text-align: right;\n    }\n</style>\n<table border=\"1\" class=\"dataframe\">\n  <thead>\n    <tr style=\"text-align: right;\">\n      <th></th>\n      <th>Title</th>\n      <th>Context</th>\n      <th>Timestamp</th>\n    </tr>\n  </thead>\n  <tbody>\n    <tr>\n      <th>0</th>\n      <td>Why is the GME share price so low?</td>\n      <td>With all the predictions of it reaching millio...</td>\n      <td>1618848715</td>\n    </tr>\n    <tr>\n      <th>3</th>\n      <td>WRITING BOOK.....GME, APES, AND THEIR DREAMS....</td>\n      <td>Hello, fellow apes.  I have been with all of y...</td>\n      <td>1618848373</td>\n    </tr>\n    <tr>\n      <th>6</th>\n      <td>$GME - CEO Stepping Down in July</td>\n      <td>$GME has announced George Sherman will depart ...</td>\n      <td>1618848286</td>\n    </tr>\n    <tr>\n      <th>12</th>\n      <td>Probably has nothing to do with GME</td>\n      <td>Two of the top Canadian cell service Fido and ...</td>\n      <td>1618848072</td>\n    </tr>\n    <tr>\n      <th>16</th>\n      <td>If GME doesn't moon this week...</td>\n      <td>I swear, if GME doesn't finally moon this week...</td>\n      <td>1618847596</td>\n    </tr>\n  </tbody>\n</table>\n</div>"
     },
     "metadata": {},
     "execution_count": 39
    }
   ],
   "source": [
    "df_total3.head()"
   ]
  },
  {
   "cell_type": "code",
   "execution_count": 42,
   "metadata": {},
   "outputs": [],
   "source": [
    "df_total3 = df_total3.replace('[^a-zA-Z ]', '', regex=True)"
   ]
  },
  {
   "cell_type": "code",
   "execution_count": 43,
   "metadata": {},
   "outputs": [
    {
     "output_type": "execute_result",
     "data": {
      "text/plain": [
       "                                    Title  \\\n",
       "0       Why is the GME share price so low   \n",
       "3   WRITING BOOKGME APES AND THEIR DREAMS   \n",
       "6          GME  CEO Stepping Down in July   \n",
       "12    Probably has nothing to do with GME   \n",
       "16           If GME doesnt moon this week   \n",
       "\n",
       "                                              Context   Timestamp  \n",
       "0   With all the predictions of it reaching millio...  1618848715  \n",
       "3   Hello fellow apes  I have been with all of you...  1618848373  \n",
       "6   GME has announced George Sherman will depart a...  1618848286  \n",
       "12  Two of the top Canadian cell service Fido and ...  1618848072  \n",
       "16  I swear if GME doesnt finally moon this week I...  1618847596  "
      ],
      "text/html": "<div>\n<style scoped>\n    .dataframe tbody tr th:only-of-type {\n        vertical-align: middle;\n    }\n\n    .dataframe tbody tr th {\n        vertical-align: top;\n    }\n\n    .dataframe thead th {\n        text-align: right;\n    }\n</style>\n<table border=\"1\" class=\"dataframe\">\n  <thead>\n    <tr style=\"text-align: right;\">\n      <th></th>\n      <th>Title</th>\n      <th>Context</th>\n      <th>Timestamp</th>\n    </tr>\n  </thead>\n  <tbody>\n    <tr>\n      <th>0</th>\n      <td>Why is the GME share price so low</td>\n      <td>With all the predictions of it reaching millio...</td>\n      <td>1618848715</td>\n    </tr>\n    <tr>\n      <th>3</th>\n      <td>WRITING BOOKGME APES AND THEIR DREAMS</td>\n      <td>Hello fellow apes  I have been with all of you...</td>\n      <td>1618848373</td>\n    </tr>\n    <tr>\n      <th>6</th>\n      <td>GME  CEO Stepping Down in July</td>\n      <td>GME has announced George Sherman will depart a...</td>\n      <td>1618848286</td>\n    </tr>\n    <tr>\n      <th>12</th>\n      <td>Probably has nothing to do with GME</td>\n      <td>Two of the top Canadian cell service Fido and ...</td>\n      <td>1618848072</td>\n    </tr>\n    <tr>\n      <th>16</th>\n      <td>If GME doesnt moon this week</td>\n      <td>I swear if GME doesnt finally moon this week I...</td>\n      <td>1618847596</td>\n    </tr>\n  </tbody>\n</table>\n</div>"
     },
     "metadata": {},
     "execution_count": 43
    }
   ],
   "source": [
    "df_total3.head()"
   ]
  },
  {
   "cell_type": "code",
   "execution_count": null,
   "metadata": {},
   "outputs": [],
   "source": []
  }
 ]
}