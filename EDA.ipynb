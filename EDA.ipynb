{
 "metadata": {
  "language_info": {
   "codemirror_mode": {
    "name": "ipython",
    "version": 3
   },
   "file_extension": ".py",
   "mimetype": "text/x-python",
   "name": "python",
   "nbconvert_exporter": "python",
   "pygments_lexer": "ipython3",
   "version": "3.8.5-final"
  },
  "orig_nbformat": 2,
  "kernelspec": {
   "name": "python385jvsc74a57bd0f2ce961db79113c6ec804e2e6dc6ecaafee5ab1cdd6f289a2be25a89f1a74403",
   "display_name": "Python 3.8.5 64-bit ('cis3296')"
  },
  "metadata": {
   "interpreter": {
    "hash": "f2ce961db79113c6ec804e2e6dc6ecaafee5ab1cdd6f289a2be25a89f1a74403"
   }
  }
 },
 "nbformat": 4,
 "nbformat_minor": 2,
 "cells": [
  {
   "cell_type": "code",
   "execution_count": null,
   "metadata": {},
   "outputs": [],
   "source": [
    "from IPython import display\n",
    "import math\n",
    "from pprint import pprint\n",
    "import pandas as pd\n",
    "import numpy as np\n",
    "import nltk\n",
    "import matplotlib.pyplot as plt\n",
    "import seaborn as sns\n",
    "sns.set(style='darkgrid', context='talk', palette='Dark2')"
   ]
  },
  {
   "cell_type": "code",
   "execution_count": null,
   "metadata": {},
   "outputs": [],
   "source": [
    "f = open(r\"gme_titles.txt\",\"r\")\n"
   ]
  },
  {
   "cell_type": "code",
   "execution_count": null,
   "metadata": {},
   "outputs": [],
   "source": []
  },
  {
   "cell_type": "code",
   "execution_count": null,
   "metadata": {},
   "outputs": [],
   "source": [
    "from nltk.sentiment.vader import SentimentIntensityAnalyzer as SIA\n",
    "\n",
    "sia = SIA()\n",
    "results = []\n",
    "\n",
    "for line in f:\n",
    "    line = line.strip('\\n')\n",
    "    pol_score = sia.polarity_scores(line)\n",
    "    pol_score['headline'] = line\n",
    "    results.append(pol_score)\n",
    "\n",
    "\n",
    "\n"
   ]
  },
  {
   "cell_type": "code",
   "execution_count": null,
   "metadata": {},
   "outputs": [],
   "source": [
    "print(results[:3])"
   ]
  },
  {
   "cell_type": "code",
   "execution_count": null,
   "metadata": {},
   "outputs": [],
   "source": [
    "df = pd.DataFrame.from_records(results)\n",
    "df.head()"
   ]
  },
  {
   "cell_type": "code",
   "execution_count": 30,
   "metadata": {
    "tags": []
   },
   "outputs": [],
   "source": [
    "import dbconn\n",
    "import reddit_scraper\n",
    "import pandas as pd\n",
    "\n",
    "df = pd.DataFrame(reddit_scraper.search_pushshift_titles('GME',5,0),columns = ['Title','Context','Timestamp'])\n",
    "df2 = pd.DataFrame(reddit_scraper.search_pushshift_titles('TSLA',5,0),columns = ['Title','Context','Timestamp'])\n",
    "df3 = pd.DataFrame(reddit_scraper.search_pushshift_titles('AMC',5,0),columns = ['Title','Context','Timestamp'])\n",
    "df4 = pd.DataFrame(reddit_scraper.search_pushshift_titles('CLOV',5,0),columns = ['Title','Context','Timestamp'])\n",
    "df5 = pd.DataFrame(reddit_scraper.search_pushshift_titles('PLTR',5,0),columns = ['Title','Context','Timestamp'])\n",
    "df6 = pd.DataFrame(reddit_scraper.search_pushshift_titles('AAPL',5,0),columns = ['Title','Context','Timestamp'])\n",
    "df7 = pd.DataFrame(reddit_scraper.search_pushshift_titles('BB',5,0),columns = ['Title','Context','Timestamp'])\n",
    "df8 = pd.DataFrame(reddit_scraper.search_pushshift_titles('AMD',5,0),columns = ['Title','Context','Timestamp'])\n",
    "df9 = pd.DataFrame(reddit_scraper.search_pushshift_titles('SNDL',5,0),columns = ['Title','Context','Timestamp'])\n",
    "df10 = pd.DataFrame(reddit_scraper.search_pushshift_titles('PTON',5,0),columns = ['Title','Context','Timestamp'])\n"
   ]
  },
  {
   "cell_type": "code",
   "execution_count": 19,
   "metadata": {},
   "outputs": [],
   "source": [
    "df_total = pd.concat([df,df2,df3,df4,df5,df6,df7,df8,df9,df10],ignore_index=True)"
   ]
  },
  {
   "cell_type": "code",
   "execution_count": 20,
   "metadata": {},
   "outputs": [
    {
     "output_type": "execute_result",
     "data": {
      "text/plain": [
       "                                                Title  \\\n",
       "995                Why I'm bearish on Peloton ($PTON)   \n",
       "996                                        PTON Calls   \n",
       "997                                      Buy PTON 🚀 🌙   \n",
       "998                                 $TGYM vs $PTON 🚀🚀   \n",
       "999  PTON was last year and what is this coming year?   \n",
       "\n",
       "                                               Context   Timestamp  \n",
       "995  First off, I love Peloton. I think their equip...  1613721411  \n",
       "996  Peloton is on sale and I got a free Bike on th...  1613614368  \n",
       "997  Peloton calls are hella cheap rn. For referenc...  1613584683  \n",
       "998                                          [removed]  1613480548  \n",
       "999                                          [removed]  1613249961  "
      ],
      "text/html": "<div>\n<style scoped>\n    .dataframe tbody tr th:only-of-type {\n        vertical-align: middle;\n    }\n\n    .dataframe tbody tr th {\n        vertical-align: top;\n    }\n\n    .dataframe thead th {\n        text-align: right;\n    }\n</style>\n<table border=\"1\" class=\"dataframe\">\n  <thead>\n    <tr style=\"text-align: right;\">\n      <th></th>\n      <th>Title</th>\n      <th>Context</th>\n      <th>Timestamp</th>\n    </tr>\n  </thead>\n  <tbody>\n    <tr>\n      <th>995</th>\n      <td>Why I'm bearish on Peloton ($PTON)</td>\n      <td>First off, I love Peloton. I think their equip...</td>\n      <td>1613721411</td>\n    </tr>\n    <tr>\n      <th>996</th>\n      <td>PTON Calls</td>\n      <td>Peloton is on sale and I got a free Bike on th...</td>\n      <td>1613614368</td>\n    </tr>\n    <tr>\n      <th>997</th>\n      <td>Buy PTON 🚀 🌙</td>\n      <td>Peloton calls are hella cheap rn. For referenc...</td>\n      <td>1613584683</td>\n    </tr>\n    <tr>\n      <th>998</th>\n      <td>$TGYM vs $PTON 🚀🚀</td>\n      <td>[removed]</td>\n      <td>1613480548</td>\n    </tr>\n    <tr>\n      <th>999</th>\n      <td>PTON was last year and what is this coming year?</td>\n      <td>[removed]</td>\n      <td>1613249961</td>\n    </tr>\n  </tbody>\n</table>\n</div>"
     },
     "metadata": {},
     "execution_count": 20
    }
   ],
   "source": [
    "df_total.tail()"
   ]
  },
  {
   "cell_type": "code",
   "execution_count": 21,
   "metadata": {},
   "outputs": [],
   "source": [
    "df_total2 = df_total[df_total.Context != \"[removed]\"]"
   ]
  },
  {
   "cell_type": "code",
   "execution_count": 22,
   "metadata": {},
   "outputs": [
    {
     "output_type": "stream",
     "name": "stdout",
     "text": [
      "<class 'pandas.core.frame.DataFrame'>\nInt64Index: 885 entries, 0 to 997\nData columns (total 3 columns):\n #   Column     Non-Null Count  Dtype \n---  ------     --------------  ----- \n 0   Title      885 non-null    object\n 1   Context    885 non-null    object\n 2   Timestamp  885 non-null    int64 \ndtypes: int64(1), object(2)\nmemory usage: 59.9+ KB\n"
     ]
    }
   ],
   "source": [
    "df_total2.info()"
   ]
  },
  {
   "cell_type": "code",
   "execution_count": 26,
   "metadata": {},
   "outputs": [],
   "source": [
    "df_total3 = df_total2[df_total2.Context != \"\"]\n"
   ]
  },
  {
   "cell_type": "code",
   "execution_count": 28,
   "metadata": {},
   "outputs": [
    {
     "output_type": "stream",
     "name": "stdout",
     "text": [
      "<class 'pandas.core.frame.DataFrame'>\nInt64Index: 289 entries, 3 to 997\nData columns (total 3 columns):\n #   Column     Non-Null Count  Dtype \n---  ------     --------------  ----- \n 0   Title      289 non-null    object\n 1   Context    289 non-null    object\n 2   Timestamp  289 non-null    int64 \ndtypes: int64(1), object(2)\nmemory usage: 9.0+ KB\n"
     ]
    }
   ],
   "source": [
    "df_total3.info()"
   ]
  },
  {
   "cell_type": "code",
   "execution_count": null,
   "metadata": {},
   "outputs": [],
   "source": []
  }
 ]
}