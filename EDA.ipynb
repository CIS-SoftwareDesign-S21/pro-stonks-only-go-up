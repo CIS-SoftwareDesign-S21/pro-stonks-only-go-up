{
 "metadata": {
  "language_info": {
   "codemirror_mode": {
    "name": "ipython",
    "version": 3
   },
   "file_extension": ".py",
   "mimetype": "text/x-python",
   "name": "python",
   "nbconvert_exporter": "python",
   "pygments_lexer": "ipython3",
   "version": "3.8.5-final"
  },
  "orig_nbformat": 2,
  "kernelspec": {
   "name": "python385jvsc74a57bd0f2ce961db79113c6ec804e2e6dc6ecaafee5ab1cdd6f289a2be25a89f1a74403",
   "display_name": "Python 3.8.5 64-bit ('cis3296')"
  },
  "metadata": {
   "interpreter": {
    "hash": "f2ce961db79113c6ec804e2e6dc6ecaafee5ab1cdd6f289a2be25a89f1a74403"
   }
  }
 },
 "nbformat": 4,
 "nbformat_minor": 2,
 "cells": [
  {
   "cell_type": "code",
   "execution_count": null,
   "metadata": {},
   "outputs": [],
   "source": [
    "from IPython import display\n",
    "import math\n",
    "from pprint import pprint\n",
    "import pandas as pd\n",
    "import numpy as np\n",
    "import nltk\n",
    "import matplotlib.pyplot as plt\n",
    "import seaborn as sns\n",
    "sns.set(style='darkgrid', context='talk', palette='Dark2')"
   ]
  },
  {
   "cell_type": "code",
   "execution_count": null,
   "metadata": {},
   "outputs": [],
   "source": [
    "f = open(r\"gme_titles.txt\",\"r\")\n"
   ]
  },
  {
   "cell_type": "code",
   "execution_count": null,
   "metadata": {},
   "outputs": [],
   "source": []
  },
  {
   "cell_type": "code",
   "execution_count": null,
   "metadata": {},
   "outputs": [],
   "source": [
    "from nltk.sentiment.vader import SentimentIntensityAnalyzer as SIA\n",
    "\n",
    "sia = SIA()\n",
    "results = []\n",
    "\n",
    "for line in f:\n",
    "    line = line.strip('\\n')\n",
    "    pol_score = sia.polarity_scores(line)\n",
    "    pol_score['headline'] = line\n",
    "    results.append(pol_score)\n",
    "\n",
    "\n",
    "\n"
   ]
  },
  {
   "cell_type": "code",
   "execution_count": null,
   "metadata": {},
   "outputs": [],
   "source": [
    "print(results[:3])"
   ]
  },
  {
   "cell_type": "code",
   "execution_count": null,
   "metadata": {},
   "outputs": [],
   "source": [
    "df = pd.DataFrame.from_records(results)\n",
    "df.head()"
   ]
  },
  {
   "cell_type": "code",
   "execution_count": 3,
   "metadata": {
    "tags": []
   },
   "outputs": [
    {
     "output_type": "stream",
     "name": "stdout",
     "text": [
      "100\n",
      "100\n",
      "100\n",
      "100\n",
      "100\n",
      "100\n",
      "100\n",
      "100\n",
      "100\n",
      "100\n"
     ]
    }
   ],
   "source": [
    "import dbconn\n",
    "import reddit_scraper\n",
    "import pandas as pd\n",
    "\n",
    "df = pd.DataFrame(reddit_scraper.search_pushshift_titles('GME',100,0),columns = ['Title','Context','Timestamp'])\n",
    "df2 = pd.DataFrame(reddit_scraper.search_pushshift_titles('TSLA',100,0),columns = ['Title','Context','Timestamp'])\n",
    "df3 = pd.DataFrame(reddit_scraper.search_pushshift_titles('AMC',100,0),columns = ['Title','Context','Timestamp'])\n",
    "df4 = pd.DataFrame(reddit_scraper.search_pushshift_titles('CLOV',100,0),columns = ['Title','Context','Timestamp'])\n",
    "df5 = pd.DataFrame(reddit_scraper.search_pushshift_titles('PLTR',100,0),columns = ['Title','Context','Timestamp'])\n",
    "df6 = pd.DataFrame(reddit_scraper.search_pushshift_titles('AAPL',100,0),columns = ['Title','Context','Timestamp'])\n",
    "df7 = pd.DataFrame(reddit_scraper.search_pushshift_titles('BB',100,0),columns = ['Title','Context','Timestamp'])\n",
    "df8 = pd.DataFrame(reddit_scraper.search_pushshift_titles('AMD',100,0),columns = ['Title','Context','Timestamp'])\n",
    "df9 = pd.DataFrame(reddit_scraper.search_pushshift_titles('SNDL',100,0),columns = ['Title','Context','Timestamp'])\n",
    "df10 = pd.DataFrame(reddit_scraper.search_pushshift_titles('PTON',100,0),columns = ['Title','Context','Timestamp'])\n"
   ]
  },
  {
   "cell_type": "code",
   "execution_count": 11,
   "metadata": {},
   "outputs": [],
   "source": [
    "# df.insert(0,'Ticker','GME')\n",
    "df2.insert(0,'Ticker','TSLA')\n",
    "df3.insert(0,'Ticker','AMC')\n",
    "df4.insert(0,'Ticker','CLOV')\n",
    "df5.insert(0,'Ticker','PLTR')\n",
    "df6.insert(0,'Ticker','AAPL')\n",
    "df7.insert(0,'Ticker','BB')\n",
    "df8.insert(0,'Ticker','AMD')\n",
    "df9.insert(0,'Ticker','SNDL')\n",
    "df10.insert(0,'Ticker','PTON')"
   ]
  },
  {
   "cell_type": "code",
   "execution_count": 12,
   "metadata": {},
   "outputs": [],
   "source": [
    "df_total = pd.concat([df,df2,df3,df4,df5,df6,df7,df8,df9,df10],ignore_index=True)"
   ]
  },
  {
   "cell_type": "code",
   "execution_count": 8,
   "metadata": {},
   "outputs": [
    {
     "output_type": "stream",
     "name": "stdout",
     "text": [
      "(100, 3)\n"
     ]
    }
   ],
   "source": [
    "import numpy as np\n",
    "\n",
    "test = np.array(reddit_scraper.search_pushshift_titles('GME',2,0))\n",
    "print(test.shape)"
   ]
  },
  {
   "cell_type": "code",
   "execution_count": 13,
   "metadata": {},
   "outputs": [
    {
     "output_type": "stream",
     "name": "stdout",
     "text": [
      "<class 'pandas.core.frame.DataFrame'>\nRangeIndex: 1000 entries, 0 to 999\nData columns (total 4 columns):\n #   Column     Non-Null Count  Dtype \n---  ------     --------------  ----- \n 0   Ticker     1000 non-null   object\n 1   Title      1000 non-null   object\n 2   Context    1000 non-null   object\n 3   Timestamp  1000 non-null   int64 \ndtypes: int64(1), object(3)\nmemory usage: 31.4+ KB\n"
     ]
    }
   ],
   "source": [
    "df_total.info()"
   ]
  },
  {
   "cell_type": "code",
   "execution_count": 14,
   "metadata": {},
   "outputs": [],
   "source": [
    "df_total2 = df_total.replace('[^a-zA-Z ]', ' ', regex=True)"
   ]
  },
  {
   "cell_type": "code",
   "execution_count": 16,
   "metadata": {},
   "outputs": [
    {
     "output_type": "execute_result",
     "data": {
      "text/plain": [
       "    Ticker                                              Title  \\\n",
       "995   PTON                                              PTON    \n",
       "996   PTON                                 PTON     BY FRIDAY   \n",
       "997   PTON                               PLTR  SOLO  or PTON    \n",
       "998   PTON  Zm or PTON bought at high  what would you do s...   \n",
       "999   PTON  PTON has been going down for the past month or...   \n",
       "\n",
       "                                               Context   Timestamp  \n",
       "995  On its way to a new high  or simply overvalued...  1605981816  \n",
       "996                                             or ban  1605910985  \n",
       "997  I have      left  Where to yolo  Will they kee...  1605904829  \n",
       "998  Holding Zm     PTON      Made a Bad bad move a...  1605844040  \n",
       "999  PTON has been going down for the past month or...  1605713602  "
      ],
      "text/html": "<div>\n<style scoped>\n    .dataframe tbody tr th:only-of-type {\n        vertical-align: middle;\n    }\n\n    .dataframe tbody tr th {\n        vertical-align: top;\n    }\n\n    .dataframe thead th {\n        text-align: right;\n    }\n</style>\n<table border=\"1\" class=\"dataframe\">\n  <thead>\n    <tr style=\"text-align: right;\">\n      <th></th>\n      <th>Ticker</th>\n      <th>Title</th>\n      <th>Context</th>\n      <th>Timestamp</th>\n    </tr>\n  </thead>\n  <tbody>\n    <tr>\n      <th>995</th>\n      <td>PTON</td>\n      <td>PTON</td>\n      <td>On its way to a new high  or simply overvalued...</td>\n      <td>1605981816</td>\n    </tr>\n    <tr>\n      <th>996</th>\n      <td>PTON</td>\n      <td>PTON     BY FRIDAY</td>\n      <td>or ban</td>\n      <td>1605910985</td>\n    </tr>\n    <tr>\n      <th>997</th>\n      <td>PTON</td>\n      <td>PLTR  SOLO  or PTON</td>\n      <td>I have      left  Where to yolo  Will they kee...</td>\n      <td>1605904829</td>\n    </tr>\n    <tr>\n      <th>998</th>\n      <td>PTON</td>\n      <td>Zm or PTON bought at high  what would you do s...</td>\n      <td>Holding Zm     PTON      Made a Bad bad move a...</td>\n      <td>1605844040</td>\n    </tr>\n    <tr>\n      <th>999</th>\n      <td>PTON</td>\n      <td>PTON has been going down for the past month or...</td>\n      <td>PTON has been going down for the past month or...</td>\n      <td>1605713602</td>\n    </tr>\n  </tbody>\n</table>\n</div>"
     },
     "metadata": {},
     "execution_count": 16
    }
   ],
   "source": [
    "df_total2.tail()"
   ]
  },
  {
   "cell_type": "code",
   "execution_count": 20,
   "metadata": {},
   "outputs": [
    {
     "output_type": "stream",
     "name": "stdout",
     "text": [
      "        Title  Context  Timestamp\nTicker                           \nAAPL      100      100        100\nAMC       100      100        100\nAMD       100      100        100\nBB        100      100        100\nCLOV      100      100        100\nGME       100      100        100\nPLTR      100      100        100\nPTON      100      100        100\nSNDL      100      100        100\nTSLA      100      100        100\n"
     ]
    }
   ],
   "source": [
    "print(df_total2.groupby(\"Ticker\").count())"
   ]
  },
  {
   "cell_type": "code",
   "execution_count": 23,
   "metadata": {},
   "outputs": [],
   "source": [
    "import spacy\n",
    "nlp = spacy.load(\"en_core_web_sm\")"
   ]
  },
  {
   "cell_type": "code",
   "execution_count": 56,
   "metadata": {},
   "outputs": [],
   "source": [
    "def lemmatize_pipe(doc):\n",
    "    lemma_list = [str(tok.lemma_).lower() for tok in doc\n",
    "                  if tok.is_alpha] \n",
    "    return lemma_list\n",
    "\n",
    "def preprocess_pipe(texts):\n",
    "    preproc_pipe = []\n",
    "    for doc in nlp.pipe(texts, batch_size=20):\n",
    "        preproc_pipe.append(lemmatize_pipe(doc))\n",
    "    return preproc_pipe\n",
    "\n",
    "def lemmatize(text):\n",
    "    doc = nlp(text)\n",
    "    lemma_list = [str(tok.lemma_) for tok in doc\n",
    "                  if tok.is_alpha]\n",
    "    lemma_context = \" \".join(lemma_list)\n",
    "    return lemma_context"
   ]
  },
  {
   "cell_type": "code",
   "execution_count": 57,
   "metadata": {},
   "outputs": [],
   "source": [
    "df_total2['Clean Context'] = df_total2['Context'].apply(lemmatize)"
   ]
  },
  {
   "cell_type": "code",
   "execution_count": 58,
   "metadata": {},
   "outputs": [
    {
     "output_type": "execute_result",
     "data": {
      "text/plain": [
       "  Ticker                                              Title  \\\n",
       "0    GME                      Can autozone and gme compare    \n",
       "1    GME  Took out a Balance Transfer from Discover for ...   \n",
       "2    GME     AMC GME F      U      R      Y        Level  I   \n",
       "3    GME               I m not buying another share of  GME   \n",
       "4    GME   Idea for a GME meme video  Hercules Hydra battle   \n",
       "\n",
       "                                             Context   Timestamp  \\\n",
       "0  Autozone is just one of many companies that se...  1618868839   \n",
       "1          Adding to my X XXX shares I already HODL   1618868772   \n",
       "2    Level II    added some power electronics for...  1618868567   \n",
       "3     Until Thursday when I get paid  Still going...  1618868405   \n",
       "4  I feel like this OG fight scene is perfect for...  1618868252   \n",
       "\n",
       "                                       Clean Context  Compound  \n",
       "0  autozone be just one of many company that sell...    0.4019  \n",
       "1               add to my x xxx share i already hodl    0.2960  \n",
       "2  level ii add some power electronic for add rag...   -0.5574  \n",
       "3  until thursday when i get pay still go to be a...    0.6858  \n",
       "4  i feel like this og fight scene be perfect for...    0.7183  "
      ],
      "text/html": "<div>\n<style scoped>\n    .dataframe tbody tr th:only-of-type {\n        vertical-align: middle;\n    }\n\n    .dataframe tbody tr th {\n        vertical-align: top;\n    }\n\n    .dataframe thead th {\n        text-align: right;\n    }\n</style>\n<table border=\"1\" class=\"dataframe\">\n  <thead>\n    <tr style=\"text-align: right;\">\n      <th></th>\n      <th>Ticker</th>\n      <th>Title</th>\n      <th>Context</th>\n      <th>Timestamp</th>\n      <th>Clean Context</th>\n      <th>Compound</th>\n    </tr>\n  </thead>\n  <tbody>\n    <tr>\n      <th>0</th>\n      <td>GME</td>\n      <td>Can autozone and gme compare</td>\n      <td>Autozone is just one of many companies that se...</td>\n      <td>1618868839</td>\n      <td>autozone be just one of many company that sell...</td>\n      <td>0.4019</td>\n    </tr>\n    <tr>\n      <th>1</th>\n      <td>GME</td>\n      <td>Took out a Balance Transfer from Discover for ...</td>\n      <td>Adding to my X XXX shares I already HODL</td>\n      <td>1618868772</td>\n      <td>add to my x xxx share i already hodl</td>\n      <td>0.2960</td>\n    </tr>\n    <tr>\n      <th>2</th>\n      <td>GME</td>\n      <td>AMC GME F      U      R      Y        Level  I</td>\n      <td>Level II    added some power electronics for...</td>\n      <td>1618868567</td>\n      <td>level ii add some power electronic for add rag...</td>\n      <td>-0.5574</td>\n    </tr>\n    <tr>\n      <th>3</th>\n      <td>GME</td>\n      <td>I m not buying another share of  GME</td>\n      <td>Until Thursday when I get paid  Still going...</td>\n      <td>1618868405</td>\n      <td>until thursday when i get pay still go to be a...</td>\n      <td>0.6858</td>\n    </tr>\n    <tr>\n      <th>4</th>\n      <td>GME</td>\n      <td>Idea for a GME meme video  Hercules Hydra battle</td>\n      <td>I feel like this OG fight scene is perfect for...</td>\n      <td>1618868252</td>\n      <td>i feel like this og fight scene be perfect for...</td>\n      <td>0.7183</td>\n    </tr>\n  </tbody>\n</table>\n</div>"
     },
     "metadata": {},
     "execution_count": 58
    }
   ],
   "source": [
    "df_total2.head()"
   ]
  },
  {
   "cell_type": "code",
   "execution_count": 51,
   "metadata": {},
   "outputs": [],
   "source": [
    "df_total2['Clean Context'] = \" \".join(df_total2['Context'])"
   ]
  },
  {
   "cell_type": "code",
   "execution_count": 52,
   "metadata": {},
   "outputs": [
    {
     "output_type": "execute_result",
     "data": {
      "text/plain": [
       "    Ticker                                              Title  \\\n",
       "0      GME                      Can autozone and gme compare    \n",
       "1      GME  Took out a Balance Transfer from Discover for ...   \n",
       "2      GME     AMC GME F      U      R      Y        Level  I   \n",
       "3      GME               I m not buying another share of  GME   \n",
       "4      GME   Idea for a GME meme video  Hercules Hydra battle   \n",
       "..     ...                                                ...   \n",
       "995   PTON                                              PTON    \n",
       "996   PTON                                 PTON     BY FRIDAY   \n",
       "997   PTON                               PLTR  SOLO  or PTON    \n",
       "998   PTON  Zm or PTON bought at high  what would you do s...   \n",
       "999   PTON  PTON has been going down for the past month or...   \n",
       "\n",
       "                                               Context   Timestamp  \\\n",
       "0    Autozone is just one of many companies that se...  1618868839   \n",
       "1            Adding to my X XXX shares I already HODL   1618868772   \n",
       "2      Level II    added some power electronics for...  1618868567   \n",
       "3       Until Thursday when I get paid  Still going...  1618868405   \n",
       "4    I feel like this OG fight scene is perfect for...  1618868252   \n",
       "..                                                 ...         ...   \n",
       "995  On its way to a new high  or simply overvalued...  1605981816   \n",
       "996                                             or ban  1605910985   \n",
       "997  I have      left  Where to yolo  Will they kee...  1605904829   \n",
       "998  Holding Zm     PTON      Made a Bad bad move a...  1605844040   \n",
       "999  PTON has been going down for the past month or...  1605713602   \n",
       "\n",
       "                                         Clean Context  Compound  \n",
       "0    Autozone is just one of many companies that se...    0.4019  \n",
       "1    Autozone is just one of many companies that se...    0.2960  \n",
       "2    Autozone is just one of many companies that se...   -0.5574  \n",
       "3    Autozone is just one of many companies that se...    0.6858  \n",
       "4    Autozone is just one of many companies that se...    0.7183  \n",
       "..                                                 ...       ...  \n",
       "995  Autozone is just one of many companies that se...    0.0000  \n",
       "996  Autozone is just one of many companies that se...   -0.5574  \n",
       "997  Autozone is just one of many companies that se...    0.2732  \n",
       "998  Autozone is just one of many companies that se...    0.3737  \n",
       "999  Autozone is just one of many companies that se...    0.3353  \n",
       "\n",
       "[1000 rows x 6 columns]"
      ],
      "text/html": "<div>\n<style scoped>\n    .dataframe tbody tr th:only-of-type {\n        vertical-align: middle;\n    }\n\n    .dataframe tbody tr th {\n        vertical-align: top;\n    }\n\n    .dataframe thead th {\n        text-align: right;\n    }\n</style>\n<table border=\"1\" class=\"dataframe\">\n  <thead>\n    <tr style=\"text-align: right;\">\n      <th></th>\n      <th>Ticker</th>\n      <th>Title</th>\n      <th>Context</th>\n      <th>Timestamp</th>\n      <th>Clean Context</th>\n      <th>Compound</th>\n    </tr>\n  </thead>\n  <tbody>\n    <tr>\n      <th>0</th>\n      <td>GME</td>\n      <td>Can autozone and gme compare</td>\n      <td>Autozone is just one of many companies that se...</td>\n      <td>1618868839</td>\n      <td>Autozone is just one of many companies that se...</td>\n      <td>0.4019</td>\n    </tr>\n    <tr>\n      <th>1</th>\n      <td>GME</td>\n      <td>Took out a Balance Transfer from Discover for ...</td>\n      <td>Adding to my X XXX shares I already HODL</td>\n      <td>1618868772</td>\n      <td>Autozone is just one of many companies that se...</td>\n      <td>0.2960</td>\n    </tr>\n    <tr>\n      <th>2</th>\n      <td>GME</td>\n      <td>AMC GME F      U      R      Y        Level  I</td>\n      <td>Level II    added some power electronics for...</td>\n      <td>1618868567</td>\n      <td>Autozone is just one of many companies that se...</td>\n      <td>-0.5574</td>\n    </tr>\n    <tr>\n      <th>3</th>\n      <td>GME</td>\n      <td>I m not buying another share of  GME</td>\n      <td>Until Thursday when I get paid  Still going...</td>\n      <td>1618868405</td>\n      <td>Autozone is just one of many companies that se...</td>\n      <td>0.6858</td>\n    </tr>\n    <tr>\n      <th>4</th>\n      <td>GME</td>\n      <td>Idea for a GME meme video  Hercules Hydra battle</td>\n      <td>I feel like this OG fight scene is perfect for...</td>\n      <td>1618868252</td>\n      <td>Autozone is just one of many companies that se...</td>\n      <td>0.7183</td>\n    </tr>\n    <tr>\n      <th>...</th>\n      <td>...</td>\n      <td>...</td>\n      <td>...</td>\n      <td>...</td>\n      <td>...</td>\n      <td>...</td>\n    </tr>\n    <tr>\n      <th>995</th>\n      <td>PTON</td>\n      <td>PTON</td>\n      <td>On its way to a new high  or simply overvalued...</td>\n      <td>1605981816</td>\n      <td>Autozone is just one of many companies that se...</td>\n      <td>0.0000</td>\n    </tr>\n    <tr>\n      <th>996</th>\n      <td>PTON</td>\n      <td>PTON     BY FRIDAY</td>\n      <td>or ban</td>\n      <td>1605910985</td>\n      <td>Autozone is just one of many companies that se...</td>\n      <td>-0.5574</td>\n    </tr>\n    <tr>\n      <th>997</th>\n      <td>PTON</td>\n      <td>PLTR  SOLO  or PTON</td>\n      <td>I have      left  Where to yolo  Will they kee...</td>\n      <td>1605904829</td>\n      <td>Autozone is just one of many companies that se...</td>\n      <td>0.2732</td>\n    </tr>\n    <tr>\n      <th>998</th>\n      <td>PTON</td>\n      <td>Zm or PTON bought at high  what would you do s...</td>\n      <td>Holding Zm     PTON      Made a Bad bad move a...</td>\n      <td>1605844040</td>\n      <td>Autozone is just one of many companies that se...</td>\n      <td>0.3737</td>\n    </tr>\n    <tr>\n      <th>999</th>\n      <td>PTON</td>\n      <td>PTON has been going down for the past month or...</td>\n      <td>PTON has been going down for the past month or...</td>\n      <td>1605713602</td>\n      <td>Autozone is just one of many companies that se...</td>\n      <td>0.3353</td>\n    </tr>\n  </tbody>\n</table>\n<p>1000 rows × 6 columns</p>\n</div>"
     },
     "metadata": {},
     "execution_count": 52
    }
   ],
   "source": [
    "df_total2"
   ]
  },
  {
   "cell_type": "code",
   "execution_count": 59,
   "metadata": {},
   "outputs": [],
   "source": [
    "from nltk.sentiment.vader import SentimentIntensityAnalyzer as SIA\n",
    "sia = SIA()\n",
    "\n",
    "df_total2['Compound'] = [sia.polarity_scores(x)['compound'] for x in df_total2['Context']]\n",
    "df_total2['Clean Compound'] = [sia.polarity_scores(x)['compound'] for x in df_total2['Clean Context']]\n"
   ]
  },
  {
   "cell_type": "code",
   "execution_count": 60,
   "metadata": {},
   "outputs": [
    {
     "output_type": "execute_result",
     "data": {
      "text/plain": [
       "  Ticker                                              Title  \\\n",
       "0    GME                      Can autozone and gme compare    \n",
       "1    GME  Took out a Balance Transfer from Discover for ...   \n",
       "2    GME     AMC GME F      U      R      Y        Level  I   \n",
       "3    GME               I m not buying another share of  GME   \n",
       "4    GME   Idea for a GME meme video  Hercules Hydra battle   \n",
       "\n",
       "                                             Context   Timestamp  \\\n",
       "0  Autozone is just one of many companies that se...  1618868839   \n",
       "1          Adding to my X XXX shares I already HODL   1618868772   \n",
       "2    Level II    added some power electronics for...  1618868567   \n",
       "3     Until Thursday when I get paid  Still going...  1618868405   \n",
       "4  I feel like this OG fight scene is perfect for...  1618868252   \n",
       "\n",
       "                                       Clean Context  Compound  Clean Compound  \n",
       "0  autozone be just one of many company that sell...    0.4019          0.4019  \n",
       "1               add to my x xxx share i already hodl    0.2960          0.2960  \n",
       "2  level ii add some power electronic for add rag...   -0.5574         -0.5574  \n",
       "3  until thursday when i get pay still go to be a...    0.6858          0.7351  \n",
       "4  i feel like this og fight scene be perfect for...    0.7183         -0.6956  "
      ],
      "text/html": "<div>\n<style scoped>\n    .dataframe tbody tr th:only-of-type {\n        vertical-align: middle;\n    }\n\n    .dataframe tbody tr th {\n        vertical-align: top;\n    }\n\n    .dataframe thead th {\n        text-align: right;\n    }\n</style>\n<table border=\"1\" class=\"dataframe\">\n  <thead>\n    <tr style=\"text-align: right;\">\n      <th></th>\n      <th>Ticker</th>\n      <th>Title</th>\n      <th>Context</th>\n      <th>Timestamp</th>\n      <th>Clean Context</th>\n      <th>Compound</th>\n      <th>Clean Compound</th>\n    </tr>\n  </thead>\n  <tbody>\n    <tr>\n      <th>0</th>\n      <td>GME</td>\n      <td>Can autozone and gme compare</td>\n      <td>Autozone is just one of many companies that se...</td>\n      <td>1618868839</td>\n      <td>autozone be just one of many company that sell...</td>\n      <td>0.4019</td>\n      <td>0.4019</td>\n    </tr>\n    <tr>\n      <th>1</th>\n      <td>GME</td>\n      <td>Took out a Balance Transfer from Discover for ...</td>\n      <td>Adding to my X XXX shares I already HODL</td>\n      <td>1618868772</td>\n      <td>add to my x xxx share i already hodl</td>\n      <td>0.2960</td>\n      <td>0.2960</td>\n    </tr>\n    <tr>\n      <th>2</th>\n      <td>GME</td>\n      <td>AMC GME F      U      R      Y        Level  I</td>\n      <td>Level II    added some power electronics for...</td>\n      <td>1618868567</td>\n      <td>level ii add some power electronic for add rag...</td>\n      <td>-0.5574</td>\n      <td>-0.5574</td>\n    </tr>\n    <tr>\n      <th>3</th>\n      <td>GME</td>\n      <td>I m not buying another share of  GME</td>\n      <td>Until Thursday when I get paid  Still going...</td>\n      <td>1618868405</td>\n      <td>until thursday when i get pay still go to be a...</td>\n      <td>0.6858</td>\n      <td>0.7351</td>\n    </tr>\n    <tr>\n      <th>4</th>\n      <td>GME</td>\n      <td>Idea for a GME meme video  Hercules Hydra battle</td>\n      <td>I feel like this OG fight scene is perfect for...</td>\n      <td>1618868252</td>\n      <td>i feel like this og fight scene be perfect for...</td>\n      <td>0.7183</td>\n      <td>-0.6956</td>\n    </tr>\n  </tbody>\n</table>\n</div>"
     },
     "metadata": {},
     "execution_count": 60
    }
   ],
   "source": [
    "df_total2.head()"
   ]
  },
  {
   "cell_type": "code",
   "execution_count": 4,
   "metadata": {},
   "outputs": [],
   "source": [
    "import plotly.graph_objects as go\n",
    "import numpy as np\n",
    "import pandas as pd\n",
    "import dbconn\n",
    "\n",
    "df_gme = pd.DataFrame(dbconn.get_reddit_posts('GME','2021-02-20'),columns=['Title','Context','Data','Score'])\n",
    "df_tsla = pd.DataFrame(dbconn.get_reddit_posts('TSLA','2021-02-20'),columns=['Title','Context','Data','Score'])\n",
    "df_amc = pd.DataFrame(dbconn.get_reddit_posts('AMC','2021-02-20'),columns=['Title','Context','Data','Score'])\n",
    "df_clov = pd.DataFrame(dbconn.get_reddit_posts('CLOV','2021-02-20'),columns=['Title','Context','Data','Score'])\n",
    "df_pltr = pd.DataFrame(dbconn.get_reddit_posts('PLTR','2021-02-20'),columns=['Title','Context','Data','Score'])\n",
    "df_aapl = pd.DataFrame(dbconn.get_reddit_posts('AAPL','2021-02-20'),columns=['Title','Context','Data','Score'])\n",
    "df_nvda = pd.DataFrame(dbconn.get_reddit_posts('NVDA','2021-02-20'),columns=['Title','Context','Data','Score'])\n",
    "df_nio = pd.DataFrame(dbconn.get_reddit_posts('NIO','2021-02-20'),columns=['Title','Context','Data','Score'])\n",
    "df_sndl = pd.DataFrame(dbconn.get_reddit_posts('SNDL','2021-02-20'),columns=['Title','Context','Data','Score'])\n",
    "df_pton = pd.DataFrame(dbconn.get_reddit_posts('PTON','2021-02-20'),columns=['Title','Context','Data','Score'])\n",
    "df_gme.insert(0,'Ticker','GME')\n",
    "df_tsla.insert(0,'Ticker','TSLA')\n",
    "df_amc.insert(0,'Ticker','AMC')\n",
    "df_clov.insert(0,'Ticker','CLOV')\n",
    "df_pltr.insert(0,'Ticker','PLTR')\n",
    "df_aapl.insert(0,'Ticker','AAPL')\n",
    "df_nvda.insert(0,'Ticker','NVDA')\n",
    "df_nio.insert(0,'Ticker','NIO')\n",
    "df_sndl.insert(0,'Ticker','SNDL')\n",
    "df_pton.insert(0,'Ticker','PTON')\n",
    "\n",
    "df_total = pd.concat([df_gme,df_tsla,df_amc,df_clov,df_pltr,df_aapl,df_nvda,df_nio,df_sndl,df_pton])"
   ]
  },
  {
   "cell_type": "code",
   "execution_count": 19,
   "metadata": {},
   "outputs": [],
   "source": [
    "df_total['label'] = 0\n",
    "df_total.loc[df_total['Score'] > 0.2, 'label'] = 1\n",
    "df_total.loc[df_total['Score'] < -0.2, 'label'] = -1"
   ]
  },
  {
   "cell_type": "code",
   "execution_count": 32,
   "metadata": {},
   "outputs": [
    {
     "output_type": "stream",
     "name": "stdout",
     "text": [
      "(3923, 6)\n(2703, 6)\n"
     ]
    }
   ],
   "source": [
    "import plotly.express as px\n",
    "\n",
    "df2_total = df_total[(df_total['label'] ==-1) | (df_total['label'] ==1)]\n",
    "print(df_total.shape)\n",
    "print(df2_total.shape)\n",
    "# tickers = df_total.Ticker.unique()\n",
    "# df_total['Sentiment'] = 'Neutral'\n",
    "\n",
    "# fig = px.bar(df_total, x=\"Ticker\", y=\"label\", color='time')\n",
    "# fig.show()"
   ]
  },
  {
   "cell_type": "code",
   "execution_count": 50,
   "metadata": {},
   "outputs": [
    {
     "output_type": "execute_result",
     "data": {
      "text/plain": [
       "944"
      ]
     },
     "metadata": {},
     "execution_count": 50
    }
   ],
   "source": [
    "df2_total[(df2_total['Ticker']==\"GME\") & (df2_total['label']==1)].label.count()"
   ]
  },
  {
   "cell_type": "code",
   "execution_count": 33,
   "metadata": {},
   "outputs": [
    {
     "output_type": "stream",
     "name": "stdout",
     "text": [
      "['GME' 'TSLA' 'AMC' 'CLOV' 'PLTR' 'AAPL' 'NIO' 'SNDL' 'PTON']\n"
     ]
    }
   ],
   "source": [
    "Tickers = df_total.Ticker.unique()\n",
    "print(Tickers)"
   ]
  },
  {
   "cell_type": "code",
   "execution_count": 51,
   "metadata": {},
   "outputs": [],
   "source": [
    "Tickers = ['GME','GME','TSLA','TSLA','AMC','AMC','CLOV','CLOV','PLTR','PLTR','AAPL','AAPL','NIO','NIO','SNDL','SNDL','PTON','PTON']\n",
    "totals = []\n",
    "Sentiment = ['Postive','Negative','Postive','Negative','Postive','Negative','Postive','Negative','Postive','Negative','Postive','Negative','Postive','Negative','Postive','Negative','Postive','Negative']\n",
    "\n",
    "for tickers in df2_total.Ticker.unique():\n",
    "      totals.append(df2_total[(df2_total['Ticker']==tickers) & (df2_total['label']==1)].label.count())\n",
    "      totals.append(df2_total[(df2_total['Ticker']==tickers) & (df2_total['label']==-1)].label.count())"
   ]
  },
  {
   "cell_type": "code",
   "execution_count": 47,
   "metadata": {},
   "outputs": [
    {
     "output_type": "error",
     "ename": "ValueError",
     "evalue": "can only convert an array of size 1 to a Python scalar",
     "traceback": [
      "\u001b[0;31m---------------------------------------------------------------------------\u001b[0m",
      "\u001b[0;31mValueError\u001b[0m                                Traceback (most recent call last)",
      "\u001b[0;32m<ipython-input-47-e55573ed0148>\u001b[0m in \u001b[0;36m<module>\u001b[0;34m\u001b[0m\n\u001b[0;32m----> 1\u001b[0;31m \u001b[0mtotals\u001b[0m \u001b[0;34m=\u001b[0m \u001b[0;34m[\u001b[0m\u001b[0mx\u001b[0m\u001b[0;34m.\u001b[0m\u001b[0mitem\u001b[0m\u001b[0;34m(\u001b[0m\u001b[0;34m)\u001b[0m \u001b[0;32mfor\u001b[0m \u001b[0mx\u001b[0m \u001b[0;32min\u001b[0m \u001b[0mtotals\u001b[0m\u001b[0;34m]\u001b[0m\u001b[0;34m\u001b[0m\u001b[0;34m\u001b[0m\u001b[0m\n\u001b[0m",
      "\u001b[0;32m<ipython-input-47-e55573ed0148>\u001b[0m in \u001b[0;36m<listcomp>\u001b[0;34m(.0)\u001b[0m\n\u001b[0;32m----> 1\u001b[0;31m \u001b[0mtotals\u001b[0m \u001b[0;34m=\u001b[0m \u001b[0;34m[\u001b[0m\u001b[0mx\u001b[0m\u001b[0;34m.\u001b[0m\u001b[0mitem\u001b[0m\u001b[0;34m(\u001b[0m\u001b[0;34m)\u001b[0m \u001b[0;32mfor\u001b[0m \u001b[0mx\u001b[0m \u001b[0;32min\u001b[0m \u001b[0mtotals\u001b[0m\u001b[0;34m]\u001b[0m\u001b[0;34m\u001b[0m\u001b[0;34m\u001b[0m\u001b[0m\n\u001b[0m",
      "\u001b[0;32m~/python/cis3296/lib/python3.8/site-packages/pandas/core/base.py\u001b[0m in \u001b[0;36mitem\u001b[0;34m(self)\u001b[0m\n\u001b[1;32m    418\u001b[0m         \u001b[0;32mif\u001b[0m \u001b[0mlen\u001b[0m\u001b[0;34m(\u001b[0m\u001b[0mself\u001b[0m\u001b[0;34m)\u001b[0m \u001b[0;34m==\u001b[0m \u001b[0;36m1\u001b[0m\u001b[0;34m:\u001b[0m\u001b[0;34m\u001b[0m\u001b[0;34m\u001b[0m\u001b[0m\n\u001b[1;32m    419\u001b[0m             \u001b[0;32mreturn\u001b[0m \u001b[0mnext\u001b[0m\u001b[0;34m(\u001b[0m\u001b[0miter\u001b[0m\u001b[0;34m(\u001b[0m\u001b[0mself\u001b[0m\u001b[0;34m)\u001b[0m\u001b[0;34m)\u001b[0m\u001b[0;34m\u001b[0m\u001b[0;34m\u001b[0m\u001b[0m\n\u001b[0;32m--> 420\u001b[0;31m         \u001b[0;32mraise\u001b[0m \u001b[0mValueError\u001b[0m\u001b[0;34m(\u001b[0m\u001b[0;34m\"can only convert an array of size 1 to a Python scalar\"\u001b[0m\u001b[0;34m)\u001b[0m\u001b[0;34m\u001b[0m\u001b[0;34m\u001b[0m\u001b[0m\n\u001b[0m\u001b[1;32m    421\u001b[0m \u001b[0;34m\u001b[0m\u001b[0m\n\u001b[1;32m    422\u001b[0m     \u001b[0;34m@\u001b[0m\u001b[0mproperty\u001b[0m\u001b[0;34m\u001b[0m\u001b[0;34m\u001b[0m\u001b[0m\n",
      "\u001b[0;31mValueError\u001b[0m: can only convert an array of size 1 to a Python scalar"
     ]
    }
   ],
   "source": [
    "totals = [x.item() for x in totals]"
   ]
  },
  {
   "cell_type": "code",
   "execution_count": 52,
   "metadata": {},
   "outputs": [
    {
     "output_type": "stream",
     "name": "stdout",
     "text": [
      "[944, 338, 27, 8, 938, 311, 11, 0, 48, 6, 4, 2, 17, 2, 39, 7, 1, 0]\n"
     ]
    }
   ],
   "source": [
    "print(totals)"
   ]
  },
  {
   "cell_type": "code",
   "execution_count": 54,
   "metadata": {},
   "outputs": [
    {
     "output_type": "error",
     "ename": "ValueError",
     "evalue": "All arguments should have the same length. The length of argument `color` is 20, whereas the length of  previously-processed arguments ['x', 'y'] is 18",
     "traceback": [
      "\u001b[0;31m---------------------------------------------------------------------------\u001b[0m",
      "\u001b[0;31mValueError\u001b[0m                                Traceback (most recent call last)",
      "\u001b[0;32m<ipython-input-54-4ce269550e1e>\u001b[0m in \u001b[0;36m<module>\u001b[0;34m\u001b[0m\n\u001b[0;32m----> 1\u001b[0;31m \u001b[0mfig\u001b[0m \u001b[0;34m=\u001b[0m \u001b[0mpx\u001b[0m\u001b[0;34m.\u001b[0m\u001b[0mbar\u001b[0m\u001b[0;34m(\u001b[0m\u001b[0mx\u001b[0m\u001b[0;34m=\u001b[0m\u001b[0mTickers\u001b[0m\u001b[0;34m,\u001b[0m \u001b[0my\u001b[0m\u001b[0;34m=\u001b[0m\u001b[0mtotals\u001b[0m\u001b[0;34m,\u001b[0m \u001b[0mcolor\u001b[0m\u001b[0;34m=\u001b[0m\u001b[0mSentiment\u001b[0m\u001b[0;34m)\u001b[0m\u001b[0;34m\u001b[0m\u001b[0;34m\u001b[0m\u001b[0m\n\u001b[0m\u001b[1;32m      2\u001b[0m \u001b[0mfig\u001b[0m\u001b[0;34m.\u001b[0m\u001b[0mshow\u001b[0m\u001b[0;34m(\u001b[0m\u001b[0;34m)\u001b[0m\u001b[0;34m\u001b[0m\u001b[0;34m\u001b[0m\u001b[0m\n",
      "\u001b[0;32m~/python/cis3296/lib/python3.8/site-packages/plotly/express/_chart_types.py\u001b[0m in \u001b[0;36mbar\u001b[0;34m(data_frame, x, y, color, facet_row, facet_col, facet_col_wrap, facet_row_spacing, facet_col_spacing, hover_name, hover_data, custom_data, text, base, error_x, error_x_minus, error_y, error_y_minus, animation_frame, animation_group, category_orders, labels, color_discrete_sequence, color_discrete_map, color_continuous_scale, range_color, color_continuous_midpoint, opacity, orientation, barmode, log_x, log_y, range_x, range_y, title, template, width, height)\u001b[0m\n\u001b[1;32m    348\u001b[0m     \u001b[0mmark\u001b[0m\u001b[0;34m.\u001b[0m\u001b[0;34m\u001b[0m\u001b[0;34m\u001b[0m\u001b[0m\n\u001b[1;32m    349\u001b[0m     \"\"\"\n\u001b[0;32m--> 350\u001b[0;31m     return make_figure(\n\u001b[0m\u001b[1;32m    351\u001b[0m         \u001b[0margs\u001b[0m\u001b[0;34m=\u001b[0m\u001b[0mlocals\u001b[0m\u001b[0;34m(\u001b[0m\u001b[0;34m)\u001b[0m\u001b[0;34m,\u001b[0m\u001b[0;34m\u001b[0m\u001b[0;34m\u001b[0m\u001b[0m\n\u001b[1;32m    352\u001b[0m         \u001b[0mconstructor\u001b[0m\u001b[0;34m=\u001b[0m\u001b[0mgo\u001b[0m\u001b[0;34m.\u001b[0m\u001b[0mBar\u001b[0m\u001b[0;34m,\u001b[0m\u001b[0;34m\u001b[0m\u001b[0;34m\u001b[0m\u001b[0m\n",
      "\u001b[0;32m~/python/cis3296/lib/python3.8/site-packages/plotly/express/_core.py\u001b[0m in \u001b[0;36mmake_figure\u001b[0;34m(args, constructor, trace_patch, layout_patch)\u001b[0m\n\u001b[1;32m   1859\u001b[0m     \u001b[0mapply_default_cascade\u001b[0m\u001b[0;34m(\u001b[0m\u001b[0margs\u001b[0m\u001b[0;34m)\u001b[0m\u001b[0;34m\u001b[0m\u001b[0;34m\u001b[0m\u001b[0m\n\u001b[1;32m   1860\u001b[0m \u001b[0;34m\u001b[0m\u001b[0m\n\u001b[0;32m-> 1861\u001b[0;31m     \u001b[0margs\u001b[0m \u001b[0;34m=\u001b[0m \u001b[0mbuild_dataframe\u001b[0m\u001b[0;34m(\u001b[0m\u001b[0margs\u001b[0m\u001b[0;34m,\u001b[0m \u001b[0mconstructor\u001b[0m\u001b[0;34m)\u001b[0m\u001b[0;34m\u001b[0m\u001b[0;34m\u001b[0m\u001b[0m\n\u001b[0m\u001b[1;32m   1862\u001b[0m     \u001b[0;32mif\u001b[0m \u001b[0mconstructor\u001b[0m \u001b[0;32min\u001b[0m \u001b[0;34m[\u001b[0m\u001b[0mgo\u001b[0m\u001b[0;34m.\u001b[0m\u001b[0mTreemap\u001b[0m\u001b[0;34m,\u001b[0m \u001b[0mgo\u001b[0m\u001b[0;34m.\u001b[0m\u001b[0mSunburst\u001b[0m\u001b[0;34m]\u001b[0m \u001b[0;32mand\u001b[0m \u001b[0margs\u001b[0m\u001b[0;34m[\u001b[0m\u001b[0;34m\"path\"\u001b[0m\u001b[0;34m]\u001b[0m \u001b[0;32mis\u001b[0m \u001b[0;32mnot\u001b[0m \u001b[0;32mNone\u001b[0m\u001b[0;34m:\u001b[0m\u001b[0;34m\u001b[0m\u001b[0;34m\u001b[0m\u001b[0m\n\u001b[1;32m   1863\u001b[0m         \u001b[0margs\u001b[0m \u001b[0;34m=\u001b[0m \u001b[0mprocess_dataframe_hierarchy\u001b[0m\u001b[0;34m(\u001b[0m\u001b[0margs\u001b[0m\u001b[0;34m)\u001b[0m\u001b[0;34m\u001b[0m\u001b[0;34m\u001b[0m\u001b[0m\n",
      "\u001b[0;32m~/python/cis3296/lib/python3.8/site-packages/plotly/express/_core.py\u001b[0m in \u001b[0;36mbuild_dataframe\u001b[0;34m(args, constructor)\u001b[0m\n\u001b[1;32m   1375\u001b[0m     \u001b[0;31m# now that things have been prepped, we do the systematic rewriting of `args`\u001b[0m\u001b[0;34m\u001b[0m\u001b[0;34m\u001b[0m\u001b[0;34m\u001b[0m\u001b[0m\n\u001b[1;32m   1376\u001b[0m \u001b[0;34m\u001b[0m\u001b[0m\n\u001b[0;32m-> 1377\u001b[0;31m     df_output, wide_id_vars = process_args_into_dataframe(\n\u001b[0m\u001b[1;32m   1378\u001b[0m         \u001b[0margs\u001b[0m\u001b[0;34m,\u001b[0m \u001b[0mwide_mode\u001b[0m\u001b[0;34m,\u001b[0m \u001b[0mvar_name\u001b[0m\u001b[0;34m,\u001b[0m \u001b[0mvalue_name\u001b[0m\u001b[0;34m\u001b[0m\u001b[0;34m\u001b[0m\u001b[0m\n\u001b[1;32m   1379\u001b[0m     )\n",
      "\u001b[0;32m~/python/cis3296/lib/python3.8/site-packages/plotly/express/_core.py\u001b[0m in \u001b[0;36mprocess_args_into_dataframe\u001b[0;34m(args, wide_mode, var_name, value_name)\u001b[0m\n\u001b[1;32m   1219\u001b[0m \u001b[0;34m\u001b[0m\u001b[0m\n\u001b[1;32m   1220\u001b[0m                 \u001b[0;32mif\u001b[0m \u001b[0mlength\u001b[0m \u001b[0;32mand\u001b[0m \u001b[0mlen\u001b[0m\u001b[0;34m(\u001b[0m\u001b[0margument\u001b[0m\u001b[0;34m)\u001b[0m \u001b[0;34m!=\u001b[0m \u001b[0mlength\u001b[0m\u001b[0;34m:\u001b[0m\u001b[0;34m\u001b[0m\u001b[0;34m\u001b[0m\u001b[0m\n\u001b[0;32m-> 1221\u001b[0;31m                     raise ValueError(\n\u001b[0m\u001b[1;32m   1222\u001b[0m                         \u001b[0;34m\"All arguments should have the same length. \"\u001b[0m\u001b[0;34m\u001b[0m\u001b[0;34m\u001b[0m\u001b[0m\n\u001b[1;32m   1223\u001b[0m                         \u001b[0;34m\"The length of argument `%s` is %d, whereas the \"\u001b[0m\u001b[0;34m\u001b[0m\u001b[0;34m\u001b[0m\u001b[0m\n",
      "\u001b[0;31mValueError\u001b[0m: All arguments should have the same length. The length of argument `color` is 20, whereas the length of  previously-processed arguments ['x', 'y'] is 18"
     ]
    }
   ],
   "source": [
    "fig = px.bar(x=Tickers, y=totals, color=Sentiment)\n",
    "fig.show()"
   ]
  },
  {
   "cell_type": "code",
   "execution_count": null,
   "metadata": {},
   "outputs": [],
   "source": []
  }
 ]
}