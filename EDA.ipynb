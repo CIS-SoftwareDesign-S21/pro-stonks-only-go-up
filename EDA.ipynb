{
 "metadata": {
  "language_info": {
   "codemirror_mode": {
    "name": "ipython",
    "version": 3
   },
   "file_extension": ".py",
   "mimetype": "text/x-python",
   "name": "python",
   "nbconvert_exporter": "python",
   "pygments_lexer": "ipython3",
   "version": "3.8.5-final"
  },
  "orig_nbformat": 2,
  "kernelspec": {
   "name": "python385jvsc74a57bd0f2ce961db79113c6ec804e2e6dc6ecaafee5ab1cdd6f289a2be25a89f1a74403",
   "display_name": "Python 3.8.5 64-bit ('cis3296')"
  },
  "metadata": {
   "interpreter": {
    "hash": "f2ce961db79113c6ec804e2e6dc6ecaafee5ab1cdd6f289a2be25a89f1a74403"
   }
  }
 },
 "nbformat": 4,
 "nbformat_minor": 2,
 "cells": [
  {
   "cell_type": "code",
   "execution_count": null,
   "metadata": {},
   "outputs": [],
   "source": [
    "from IPython import display\n",
    "import math\n",
    "from pprint import pprint\n",
    "import pandas as pd\n",
    "import numpy as np\n",
    "import nltk\n",
    "import matplotlib.pyplot as plt\n",
    "import seaborn as sns\n",
    "sns.set(style='darkgrid', context='talk', palette='Dark2')"
   ]
  },
  {
   "cell_type": "code",
   "execution_count": null,
   "metadata": {},
   "outputs": [],
   "source": [
    "f = open(r\"gme_titles.txt\",\"r\")\n"
   ]
  },
  {
   "cell_type": "code",
   "execution_count": null,
   "metadata": {},
   "outputs": [],
   "source": []
  },
  {
   "cell_type": "code",
   "execution_count": null,
   "metadata": {},
   "outputs": [],
   "source": [
    "from nltk.sentiment.vader import SentimentIntensityAnalyzer as SIA\n",
    "\n",
    "sia = SIA()\n",
    "results = []\n",
    "\n",
    "for line in f:\n",
    "    line = line.strip('\\n')\n",
    "    pol_score = sia.polarity_scores(line)\n",
    "    pol_score['headline'] = line\n",
    "    results.append(pol_score)\n",
    "\n",
    "\n",
    "\n"
   ]
  },
  {
   "cell_type": "code",
   "execution_count": null,
   "metadata": {},
   "outputs": [],
   "source": [
    "print(results[:3])"
   ]
  },
  {
   "cell_type": "code",
   "execution_count": null,
   "metadata": {},
   "outputs": [],
   "source": [
    "df = pd.DataFrame.from_records(results)\n",
    "df.head()"
   ]
  },
  {
   "cell_type": "code",
   "execution_count": 3,
   "metadata": {
    "tags": []
   },
   "outputs": [
    {
     "output_type": "stream",
     "name": "stdout",
     "text": [
      "100\n",
      "100\n",
      "100\n",
      "100\n",
      "100\n",
      "100\n",
      "100\n",
      "100\n",
      "100\n",
      "100\n"
     ]
    }
   ],
   "source": [
    "import dbconn\n",
    "import reddit_scraper\n",
    "import pandas as pd\n",
    "\n",
    "df = pd.DataFrame(reddit_scraper.search_pushshift_titles('GME',100,0),columns = ['Title','Context','Timestamp'])\n",
    "df2 = pd.DataFrame(reddit_scraper.search_pushshift_titles('TSLA',100,0),columns = ['Title','Context','Timestamp'])\n",
    "df3 = pd.DataFrame(reddit_scraper.search_pushshift_titles('AMC',100,0),columns = ['Title','Context','Timestamp'])\n",
    "df4 = pd.DataFrame(reddit_scraper.search_pushshift_titles('CLOV',100,0),columns = ['Title','Context','Timestamp'])\n",
    "df5 = pd.DataFrame(reddit_scraper.search_pushshift_titles('PLTR',100,0),columns = ['Title','Context','Timestamp'])\n",
    "df6 = pd.DataFrame(reddit_scraper.search_pushshift_titles('AAPL',100,0),columns = ['Title','Context','Timestamp'])\n",
    "df7 = pd.DataFrame(reddit_scraper.search_pushshift_titles('BB',100,0),columns = ['Title','Context','Timestamp'])\n",
    "df8 = pd.DataFrame(reddit_scraper.search_pushshift_titles('AMD',100,0),columns = ['Title','Context','Timestamp'])\n",
    "df9 = pd.DataFrame(reddit_scraper.search_pushshift_titles('SNDL',100,0),columns = ['Title','Context','Timestamp'])\n",
    "df10 = pd.DataFrame(reddit_scraper.search_pushshift_titles('PTON',100,0),columns = ['Title','Context','Timestamp'])\n"
   ]
  },
  {
   "cell_type": "code",
   "execution_count": 11,
   "metadata": {},
   "outputs": [],
   "source": [
    "# df.insert(0,'Ticker','GME')\n",
    "df2.insert(0,'Ticker','TSLA')\n",
    "df3.insert(0,'Ticker','AMC')\n",
    "df4.insert(0,'Ticker','CLOV')\n",
    "df5.insert(0,'Ticker','PLTR')\n",
    "df6.insert(0,'Ticker','AAPL')\n",
    "df7.insert(0,'Ticker','BB')\n",
    "df8.insert(0,'Ticker','AMD')\n",
    "df9.insert(0,'Ticker','SNDL')\n",
    "df10.insert(0,'Ticker','PTON')"
   ]
  },
  {
   "cell_type": "code",
   "execution_count": 12,
   "metadata": {},
   "outputs": [],
   "source": [
    "df_total = pd.concat([df,df2,df3,df4,df5,df6,df7,df8,df9,df10],ignore_index=True)"
   ]
  },
  {
   "cell_type": "code",
   "execution_count": 8,
   "metadata": {},
   "outputs": [
    {
     "output_type": "stream",
     "name": "stdout",
     "text": [
      "(100, 3)\n"
     ]
    }
   ],
   "source": [
    "import numpy as np\n",
    "\n",
    "test = np.array(reddit_scraper.search_pushshift_titles('GME',2,0))\n",
    "print(test.shape)"
   ]
  },
  {
   "cell_type": "code",
   "execution_count": 13,
   "metadata": {},
   "outputs": [
    {
     "output_type": "stream",
     "name": "stdout",
     "text": [
      "<class 'pandas.core.frame.DataFrame'>\nRangeIndex: 1000 entries, 0 to 999\nData columns (total 4 columns):\n #   Column     Non-Null Count  Dtype \n---  ------     --------------  ----- \n 0   Ticker     1000 non-null   object\n 1   Title      1000 non-null   object\n 2   Context    1000 non-null   object\n 3   Timestamp  1000 non-null   int64 \ndtypes: int64(1), object(3)\nmemory usage: 31.4+ KB\n"
     ]
    }
   ],
   "source": [
    "df_total.info()"
   ]
  },
  {
   "cell_type": "code",
   "execution_count": 14,
   "metadata": {},
   "outputs": [],
   "source": [
    "df_total2 = df_total.replace('[^a-zA-Z ]', ' ', regex=True)"
   ]
  },
  {
   "cell_type": "code",
   "execution_count": 16,
   "metadata": {},
   "outputs": [
    {
     "output_type": "execute_result",
     "data": {
      "text/plain": [
       "    Ticker                                              Title  \\\n",
       "995   PTON                                              PTON    \n",
       "996   PTON                                 PTON     BY FRIDAY   \n",
       "997   PTON                               PLTR  SOLO  or PTON    \n",
       "998   PTON  Zm or PTON bought at high  what would you do s...   \n",
       "999   PTON  PTON has been going down for the past month or...   \n",
       "\n",
       "                                               Context   Timestamp  \n",
       "995  On its way to a new high  or simply overvalued...  1605981816  \n",
       "996                                             or ban  1605910985  \n",
       "997  I have      left  Where to yolo  Will they kee...  1605904829  \n",
       "998  Holding Zm     PTON      Made a Bad bad move a...  1605844040  \n",
       "999  PTON has been going down for the past month or...  1605713602  "
      ],
      "text/html": "<div>\n<style scoped>\n    .dataframe tbody tr th:only-of-type {\n        vertical-align: middle;\n    }\n\n    .dataframe tbody tr th {\n        vertical-align: top;\n    }\n\n    .dataframe thead th {\n        text-align: right;\n    }\n</style>\n<table border=\"1\" class=\"dataframe\">\n  <thead>\n    <tr style=\"text-align: right;\">\n      <th></th>\n      <th>Ticker</th>\n      <th>Title</th>\n      <th>Context</th>\n      <th>Timestamp</th>\n    </tr>\n  </thead>\n  <tbody>\n    <tr>\n      <th>995</th>\n      <td>PTON</td>\n      <td>PTON</td>\n      <td>On its way to a new high  or simply overvalued...</td>\n      <td>1605981816</td>\n    </tr>\n    <tr>\n      <th>996</th>\n      <td>PTON</td>\n      <td>PTON     BY FRIDAY</td>\n      <td>or ban</td>\n      <td>1605910985</td>\n    </tr>\n    <tr>\n      <th>997</th>\n      <td>PTON</td>\n      <td>PLTR  SOLO  or PTON</td>\n      <td>I have      left  Where to yolo  Will they kee...</td>\n      <td>1605904829</td>\n    </tr>\n    <tr>\n      <th>998</th>\n      <td>PTON</td>\n      <td>Zm or PTON bought at high  what would you do s...</td>\n      <td>Holding Zm     PTON      Made a Bad bad move a...</td>\n      <td>1605844040</td>\n    </tr>\n    <tr>\n      <th>999</th>\n      <td>PTON</td>\n      <td>PTON has been going down for the past month or...</td>\n      <td>PTON has been going down for the past month or...</td>\n      <td>1605713602</td>\n    </tr>\n  </tbody>\n</table>\n</div>"
     },
     "metadata": {},
     "execution_count": 16
    }
   ],
   "source": [
    "df_total2.tail()"
   ]
  },
  {
   "cell_type": "code",
   "execution_count": 20,
   "metadata": {},
   "outputs": [
    {
     "output_type": "stream",
     "name": "stdout",
     "text": [
      "        Title  Context  Timestamp\nTicker                           \nAAPL      100      100        100\nAMC       100      100        100\nAMD       100      100        100\nBB        100      100        100\nCLOV      100      100        100\nGME       100      100        100\nPLTR      100      100        100\nPTON      100      100        100\nSNDL      100      100        100\nTSLA      100      100        100\n"
     ]
    }
   ],
   "source": [
    "print(df_total2.groupby(\"Ticker\").count())"
   ]
  },
  {
   "cell_type": "code",
   "execution_count": 23,
   "metadata": {},
   "outputs": [],
   "source": [
    "import spacy\n",
    "nlp = spacy.load(\"en_core_web_sm\")"
   ]
  },
  {
   "cell_type": "code",
   "execution_count": 56,
   "metadata": {},
   "outputs": [],
   "source": [
    "def lemmatize_pipe(doc):\n",
    "    lemma_list = [str(tok.lemma_).lower() for tok in doc\n",
    "                  if tok.is_alpha] \n",
    "    return lemma_list\n",
    "\n",
    "def preprocess_pipe(texts):\n",
    "    preproc_pipe = []\n",
    "    for doc in nlp.pipe(texts, batch_size=20):\n",
    "        preproc_pipe.append(lemmatize_pipe(doc))\n",
    "    return preproc_pipe\n",
    "\n",
    "def lemmatize(text):\n",
    "    doc = nlp(text)\n",
    "    lemma_list = [str(tok.lemma_) for tok in doc\n",
    "                  if tok.is_alpha]\n",
    "    lemma_context = \" \".join(lemma_list)\n",
    "    return lemma_context"
   ]
  },
  {
   "cell_type": "code",
   "execution_count": 57,
   "metadata": {},
   "outputs": [],
   "source": [
    "df_total2['Clean Context'] = df_total2['Context'].apply(lemmatize)"
   ]
  },
  {
   "cell_type": "code",
   "execution_count": 58,
   "metadata": {},
   "outputs": [
    {
     "output_type": "execute_result",
     "data": {
      "text/plain": [
       "  Ticker                                              Title  \\\n",
       "0    GME                      Can autozone and gme compare    \n",
       "1    GME  Took out a Balance Transfer from Discover for ...   \n",
       "2    GME     AMC GME F      U      R      Y        Level  I   \n",
       "3    GME               I m not buying another share of  GME   \n",
       "4    GME   Idea for a GME meme video  Hercules Hydra battle   \n",
       "\n",
       "                                             Context   Timestamp  \\\n",
       "0  Autozone is just one of many companies that se...  1618868839   \n",
       "1          Adding to my X XXX shares I already HODL   1618868772   \n",
       "2    Level II    added some power electronics for...  1618868567   \n",
       "3     Until Thursday when I get paid  Still going...  1618868405   \n",
       "4  I feel like this OG fight scene is perfect for...  1618868252   \n",
       "\n",
       "                                       Clean Context  Compound  \n",
       "0  autozone be just one of many company that sell...    0.4019  \n",
       "1               add to my x xxx share i already hodl    0.2960  \n",
       "2  level ii add some power electronic for add rag...   -0.5574  \n",
       "3  until thursday when i get pay still go to be a...    0.6858  \n",
       "4  i feel like this og fight scene be perfect for...    0.7183  "
      ],
      "text/html": "<div>\n<style scoped>\n    .dataframe tbody tr th:only-of-type {\n        vertical-align: middle;\n    }\n\n    .dataframe tbody tr th {\n        vertical-align: top;\n    }\n\n    .dataframe thead th {\n        text-align: right;\n    }\n</style>\n<table border=\"1\" class=\"dataframe\">\n  <thead>\n    <tr style=\"text-align: right;\">\n      <th></th>\n      <th>Ticker</th>\n      <th>Title</th>\n      <th>Context</th>\n      <th>Timestamp</th>\n      <th>Clean Context</th>\n      <th>Compound</th>\n    </tr>\n  </thead>\n  <tbody>\n    <tr>\n      <th>0</th>\n      <td>GME</td>\n      <td>Can autozone and gme compare</td>\n      <td>Autozone is just one of many companies that se...</td>\n      <td>1618868839</td>\n      <td>autozone be just one of many company that sell...</td>\n      <td>0.4019</td>\n    </tr>\n    <tr>\n      <th>1</th>\n      <td>GME</td>\n      <td>Took out a Balance Transfer from Discover for ...</td>\n      <td>Adding to my X XXX shares I already HODL</td>\n      <td>1618868772</td>\n      <td>add to my x xxx share i already hodl</td>\n      <td>0.2960</td>\n    </tr>\n    <tr>\n      <th>2</th>\n      <td>GME</td>\n      <td>AMC GME F      U      R      Y        Level  I</td>\n      <td>Level II    added some power electronics for...</td>\n      <td>1618868567</td>\n      <td>level ii add some power electronic for add rag...</td>\n      <td>-0.5574</td>\n    </tr>\n    <tr>\n      <th>3</th>\n      <td>GME</td>\n      <td>I m not buying another share of  GME</td>\n      <td>Until Thursday when I get paid  Still going...</td>\n      <td>1618868405</td>\n      <td>until thursday when i get pay still go to be a...</td>\n      <td>0.6858</td>\n    </tr>\n    <tr>\n      <th>4</th>\n      <td>GME</td>\n      <td>Idea for a GME meme video  Hercules Hydra battle</td>\n      <td>I feel like this OG fight scene is perfect for...</td>\n      <td>1618868252</td>\n      <td>i feel like this og fight scene be perfect for...</td>\n      <td>0.7183</td>\n    </tr>\n  </tbody>\n</table>\n</div>"
     },
     "metadata": {},
     "execution_count": 58
    }
   ],
   "source": [
    "df_total2.head()"
   ]
  },
  {
   "cell_type": "code",
   "execution_count": 51,
   "metadata": {},
   "outputs": [],
   "source": [
    "df_total2['Clean Context'] = \" \".join(df_total2['Context'])"
   ]
  },
  {
   "cell_type": "code",
   "execution_count": 52,
   "metadata": {},
   "outputs": [
    {
     "output_type": "execute_result",
     "data": {
      "text/plain": [
       "    Ticker                                              Title  \\\n",
       "0      GME                      Can autozone and gme compare    \n",
       "1      GME  Took out a Balance Transfer from Discover for ...   \n",
       "2      GME     AMC GME F      U      R      Y        Level  I   \n",
       "3      GME               I m not buying another share of  GME   \n",
       "4      GME   Idea for a GME meme video  Hercules Hydra battle   \n",
       "..     ...                                                ...   \n",
       "995   PTON                                              PTON    \n",
       "996   PTON                                 PTON     BY FRIDAY   \n",
       "997   PTON                               PLTR  SOLO  or PTON    \n",
       "998   PTON  Zm or PTON bought at high  what would you do s...   \n",
       "999   PTON  PTON has been going down for the past month or...   \n",
       "\n",
       "                                               Context   Timestamp  \\\n",
       "0    Autozone is just one of many companies that se...  1618868839   \n",
       "1            Adding to my X XXX shares I already HODL   1618868772   \n",
       "2      Level II    added some power electronics for...  1618868567   \n",
       "3       Until Thursday when I get paid  Still going...  1618868405   \n",
       "4    I feel like this OG fight scene is perfect for...  1618868252   \n",
       "..                                                 ...         ...   \n",
       "995  On its way to a new high  or simply overvalued...  1605981816   \n",
       "996                                             or ban  1605910985   \n",
       "997  I have      left  Where to yolo  Will they kee...  1605904829   \n",
       "998  Holding Zm     PTON      Made a Bad bad move a...  1605844040   \n",
       "999  PTON has been going down for the past month or...  1605713602   \n",
       "\n",
       "                                         Clean Context  Compound  \n",
       "0    Autozone is just one of many companies that se...    0.4019  \n",
       "1    Autozone is just one of many companies that se...    0.2960  \n",
       "2    Autozone is just one of many companies that se...   -0.5574  \n",
       "3    Autozone is just one of many companies that se...    0.6858  \n",
       "4    Autozone is just one of many companies that se...    0.7183  \n",
       "..                                                 ...       ...  \n",
       "995  Autozone is just one of many companies that se...    0.0000  \n",
       "996  Autozone is just one of many companies that se...   -0.5574  \n",
       "997  Autozone is just one of many companies that se...    0.2732  \n",
       "998  Autozone is just one of many companies that se...    0.3737  \n",
       "999  Autozone is just one of many companies that se...    0.3353  \n",
       "\n",
       "[1000 rows x 6 columns]"
      ],
      "text/html": "<div>\n<style scoped>\n    .dataframe tbody tr th:only-of-type {\n        vertical-align: middle;\n    }\n\n    .dataframe tbody tr th {\n        vertical-align: top;\n    }\n\n    .dataframe thead th {\n        text-align: right;\n    }\n</style>\n<table border=\"1\" class=\"dataframe\">\n  <thead>\n    <tr style=\"text-align: right;\">\n      <th></th>\n      <th>Ticker</th>\n      <th>Title</th>\n      <th>Context</th>\n      <th>Timestamp</th>\n      <th>Clean Context</th>\n      <th>Compound</th>\n    </tr>\n  </thead>\n  <tbody>\n    <tr>\n      <th>0</th>\n      <td>GME</td>\n      <td>Can autozone and gme compare</td>\n      <td>Autozone is just one of many companies that se...</td>\n      <td>1618868839</td>\n      <td>Autozone is just one of many companies that se...</td>\n      <td>0.4019</td>\n    </tr>\n    <tr>\n      <th>1</th>\n      <td>GME</td>\n      <td>Took out a Balance Transfer from Discover for ...</td>\n      <td>Adding to my X XXX shares I already HODL</td>\n      <td>1618868772</td>\n      <td>Autozone is just one of many companies that se...</td>\n      <td>0.2960</td>\n    </tr>\n    <tr>\n      <th>2</th>\n      <td>GME</td>\n      <td>AMC GME F      U      R      Y        Level  I</td>\n      <td>Level II    added some power electronics for...</td>\n      <td>1618868567</td>\n      <td>Autozone is just one of many companies that se...</td>\n      <td>-0.5574</td>\n    </tr>\n    <tr>\n      <th>3</th>\n      <td>GME</td>\n      <td>I m not buying another share of  GME</td>\n      <td>Until Thursday when I get paid  Still going...</td>\n      <td>1618868405</td>\n      <td>Autozone is just one of many companies that se...</td>\n      <td>0.6858</td>\n    </tr>\n    <tr>\n      <th>4</th>\n      <td>GME</td>\n      <td>Idea for a GME meme video  Hercules Hydra battle</td>\n      <td>I feel like this OG fight scene is perfect for...</td>\n      <td>1618868252</td>\n      <td>Autozone is just one of many companies that se...</td>\n      <td>0.7183</td>\n    </tr>\n    <tr>\n      <th>...</th>\n      <td>...</td>\n      <td>...</td>\n      <td>...</td>\n      <td>...</td>\n      <td>...</td>\n      <td>...</td>\n    </tr>\n    <tr>\n      <th>995</th>\n      <td>PTON</td>\n      <td>PTON</td>\n      <td>On its way to a new high  or simply overvalued...</td>\n      <td>1605981816</td>\n      <td>Autozone is just one of many companies that se...</td>\n      <td>0.0000</td>\n    </tr>\n    <tr>\n      <th>996</th>\n      <td>PTON</td>\n      <td>PTON     BY FRIDAY</td>\n      <td>or ban</td>\n      <td>1605910985</td>\n      <td>Autozone is just one of many companies that se...</td>\n      <td>-0.5574</td>\n    </tr>\n    <tr>\n      <th>997</th>\n      <td>PTON</td>\n      <td>PLTR  SOLO  or PTON</td>\n      <td>I have      left  Where to yolo  Will they kee...</td>\n      <td>1605904829</td>\n      <td>Autozone is just one of many companies that se...</td>\n      <td>0.2732</td>\n    </tr>\n    <tr>\n      <th>998</th>\n      <td>PTON</td>\n      <td>Zm or PTON bought at high  what would you do s...</td>\n      <td>Holding Zm     PTON      Made a Bad bad move a...</td>\n      <td>1605844040</td>\n      <td>Autozone is just one of many companies that se...</td>\n      <td>0.3737</td>\n    </tr>\n    <tr>\n      <th>999</th>\n      <td>PTON</td>\n      <td>PTON has been going down for the past month or...</td>\n      <td>PTON has been going down for the past month or...</td>\n      <td>1605713602</td>\n      <td>Autozone is just one of many companies that se...</td>\n      <td>0.3353</td>\n    </tr>\n  </tbody>\n</table>\n<p>1000 rows × 6 columns</p>\n</div>"
     },
     "metadata": {},
     "execution_count": 52
    }
   ],
   "source": [
    "df_total2"
   ]
  },
  {
   "cell_type": "code",
   "execution_count": 59,
   "metadata": {},
   "outputs": [],
   "source": [
    "from nltk.sentiment.vader import SentimentIntensityAnalyzer as SIA\n",
    "sia = SIA()\n",
    "\n",
    "df_total2['Compound'] = [sia.polarity_scores(x)['compound'] for x in df_total2['Context']]\n",
    "df_total2['Clean Compound'] = [sia.polarity_scores(x)['compound'] for x in df_total2['Clean Context']]\n"
   ]
  },
  {
   "cell_type": "code",
   "execution_count": 60,
   "metadata": {},
   "outputs": [
    {
     "output_type": "execute_result",
     "data": {
      "text/plain": [
       "  Ticker                                              Title  \\\n",
       "0    GME                      Can autozone and gme compare    \n",
       "1    GME  Took out a Balance Transfer from Discover for ...   \n",
       "2    GME     AMC GME F      U      R      Y        Level  I   \n",
       "3    GME               I m not buying another share of  GME   \n",
       "4    GME   Idea for a GME meme video  Hercules Hydra battle   \n",
       "\n",
       "                                             Context   Timestamp  \\\n",
       "0  Autozone is just one of many companies that se...  1618868839   \n",
       "1          Adding to my X XXX shares I already HODL   1618868772   \n",
       "2    Level II    added some power electronics for...  1618868567   \n",
       "3     Until Thursday when I get paid  Still going...  1618868405   \n",
       "4  I feel like this OG fight scene is perfect for...  1618868252   \n",
       "\n",
       "                                       Clean Context  Compound  Clean Compound  \n",
       "0  autozone be just one of many company that sell...    0.4019          0.4019  \n",
       "1               add to my x xxx share i already hodl    0.2960          0.2960  \n",
       "2  level ii add some power electronic for add rag...   -0.5574         -0.5574  \n",
       "3  until thursday when i get pay still go to be a...    0.6858          0.7351  \n",
       "4  i feel like this og fight scene be perfect for...    0.7183         -0.6956  "
      ],
      "text/html": "<div>\n<style scoped>\n    .dataframe tbody tr th:only-of-type {\n        vertical-align: middle;\n    }\n\n    .dataframe tbody tr th {\n        vertical-align: top;\n    }\n\n    .dataframe thead th {\n        text-align: right;\n    }\n</style>\n<table border=\"1\" class=\"dataframe\">\n  <thead>\n    <tr style=\"text-align: right;\">\n      <th></th>\n      <th>Ticker</th>\n      <th>Title</th>\n      <th>Context</th>\n      <th>Timestamp</th>\n      <th>Clean Context</th>\n      <th>Compound</th>\n      <th>Clean Compound</th>\n    </tr>\n  </thead>\n  <tbody>\n    <tr>\n      <th>0</th>\n      <td>GME</td>\n      <td>Can autozone and gme compare</td>\n      <td>Autozone is just one of many companies that se...</td>\n      <td>1618868839</td>\n      <td>autozone be just one of many company that sell...</td>\n      <td>0.4019</td>\n      <td>0.4019</td>\n    </tr>\n    <tr>\n      <th>1</th>\n      <td>GME</td>\n      <td>Took out a Balance Transfer from Discover for ...</td>\n      <td>Adding to my X XXX shares I already HODL</td>\n      <td>1618868772</td>\n      <td>add to my x xxx share i already hodl</td>\n      <td>0.2960</td>\n      <td>0.2960</td>\n    </tr>\n    <tr>\n      <th>2</th>\n      <td>GME</td>\n      <td>AMC GME F      U      R      Y        Level  I</td>\n      <td>Level II    added some power electronics for...</td>\n      <td>1618868567</td>\n      <td>level ii add some power electronic for add rag...</td>\n      <td>-0.5574</td>\n      <td>-0.5574</td>\n    </tr>\n    <tr>\n      <th>3</th>\n      <td>GME</td>\n      <td>I m not buying another share of  GME</td>\n      <td>Until Thursday when I get paid  Still going...</td>\n      <td>1618868405</td>\n      <td>until thursday when i get pay still go to be a...</td>\n      <td>0.6858</td>\n      <td>0.7351</td>\n    </tr>\n    <tr>\n      <th>4</th>\n      <td>GME</td>\n      <td>Idea for a GME meme video  Hercules Hydra battle</td>\n      <td>I feel like this OG fight scene is perfect for...</td>\n      <td>1618868252</td>\n      <td>i feel like this og fight scene be perfect for...</td>\n      <td>0.7183</td>\n      <td>-0.6956</td>\n    </tr>\n  </tbody>\n</table>\n</div>"
     },
     "metadata": {},
     "execution_count": 60
    }
   ],
   "source": [
    "df_total2.head()"
   ]
  },
  {
   "cell_type": "code",
   "execution_count": null,
   "metadata": {},
   "outputs": [],
   "source": []
  }
 ]
}